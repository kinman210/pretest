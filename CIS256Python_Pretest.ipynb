{
  "nbformat": 4,
  "nbformat_minor": 0,
  "metadata": {
    "colab": {
      "provenance": [],
      "include_colab_link": true
    },
    "kernelspec": {
      "name": "python3",
      "display_name": "Python 3"
    },
    "language_info": {
      "name": "python"
    }
  },
  "cells": [
    {
      "cell_type": "markdown",
      "metadata": {
        "id": "view-in-github",
        "colab_type": "text"
      },
      "source": [
        "<a href=\"https://colab.research.google.com/github/kinman210/pretest/blob/main/CIS256Python_Pretest.ipynb\" target=\"_parent\"><img src=\"https://colab.research.google.com/assets/colab-badge.svg\" alt=\"Open In Colab\"/></a>"
      ]
    },
    {
      "cell_type": "markdown",
      "source": [
        "Question 1: In a Caesar shift code, each letter in a message is shifted n places later in the alphabet (with Z wrapping around to A).\n",
        "For example, if n = 1, the word example becomes fybnqmf.\n",
        "If n = 2, the word python becomes ravjqp.\n",
        "Write a function called caesar_shift() that takes two parameters.\n",
        "The first is a word to encode.\n",
        "\n",
        "The second is the number of places to shift.\n",
        "\n",
        "It returns the shifted text.\n",
        "\n",
        "You can assume the first parameter is a single word with no spaces or other punctuation.\n",
        "\n",
        "You may also assume it is all lowercase.\n",
        "\n",
        "Some sample calls:\n",
        "\n",
        ">>> caesarShift(’example’, 1) ’fybnqmf’\n",
        "\n",
        ">>> caesarShift(’example’, -1) ’dwzlokd’\n",
        "\n",
        ">>> caesarShift(’python’, 2) ’ravjqp’\n",
        "\n",
        ">>> caesarShift(’pecan’, 4) ’tiger’"
      ],
      "metadata": {
        "id": "PfuOGC913RX3"
      }
    },
    {
      "cell_type": "code",
      "execution_count": null,
      "metadata": {
        "id": "AG31riex3Di8"
      },
      "outputs": [],
      "source": [
        "def caesarShift(txt: str, shift: int) -> str:\n",
        "    pass #remove this and create your own code here\n",
        "\n",
        "\n",
        "if __name__ == \"__main__\":\n",
        "    #This is the test code\n",
        "    txt = input()\n",
        "    shift = int(input())\n",
        "    print(caesarShift(txt, shift))\n",
        "\n",
        "    assert caesarShift('example', 1) == 'fybnqmf', 'failed test case 1'\n",
        "    assert caesarShift('example', -1) == 'dwzlokd', 'failed test case 2'\n",
        "    assert caesarShift('python', 2) == 'ravjqp', \"failed test case 3\"\n",
        "    assert caesarShift('pecan', 4) == 'tiger', \"failed test case 4\""
      ]
    },
    {
      "cell_type": "markdown",
      "source": [
        "Question 2: The Fibonacci numbers are the numbers 1, 1, 2, 3, 5, 8, 13, 21, 34, 55, 89, . . . where every number (after the first two 1’s) is the sum of the previous two numbers (for example, 34 = 21 + 13). The numbers are counted starting with the first 1, so that, for example, the 7th Fibonacci number is 13.\n",
        "Write a program that asks the user to enter a positive integer n and then outputs the sum of first n Fibonacci numbers. For example, if the user enters 10, the program would output:\n",
        "\n",
        "1,1,2,3,5,8,13,21,34,55,\n",
        "# sum of first 10 fib number is: 143"
      ],
      "metadata": {
        "id": "pNN2a9Yr4VoL"
      }
    },
    {
      "cell_type": "code",
      "source": [
        "def fib_gen(n): #generator function to provide first n fib numbers\n",
        "    # delete the word pass and code your way\n",
        "    pass\n",
        "\n",
        "\n",
        "#test:\n",
        "n = int(input(\"please enter a positive integer: n= \"))\n",
        "for num in fib_gen(n):\n",
        "    print(num, end=\",\")\n",
        "\n",
        "print()\n",
        "print(f\"sum of first {n} fib number is: {sum(x for x in fib_gen(n))}\")"
      ],
      "metadata": {
        "id": "zte89brz7pUn"
      },
      "execution_count": null,
      "outputs": []
    },
    {
      "cell_type": "markdown",
      "source": [
        "Question 3: Suppose the file [studentdata.txt](https://drive.google.com/file/d/1AJywx6UFyNp8FDg5BnHdY5xZTFFwtLAq/view?usp=sharing) contains information on grades students earned on various assignments. Each line has the last name of a student (which you can assume is one word) and the numeric grade that the student received. All grades are out of 100 points. Students can appear multiple times in the file.\n",
        "Here’s a sample file:\n",
        "\n",
        "Arnold 90\n",
        "Brown 84\n",
        "Arnold 80\n",
        "Cocher 77\n",
        "Cocher 100\n",
        "Write a function that reads the data from the file into a dictionary. Then continue prompting the user for names of students.\n",
        "\n",
        "For each student, it should print the average of that student’s grades. Stop prompting when the user enters the name of a student not in the dictionary.\n",
        "\n",
        "Sample runs:\n",
        "Enter name: Arnold\n",
        "The average for Arnold is: 85.0\n",
        "Enter name: Brown\n",
        "The average for Brown is: 84.0\n",
        "Enter name: Cocher\n",
        "The average for Cocher is: 88.5\n",
        "Enter name: Doherty\n",
        "Goodbye!"
      ],
      "metadata": {
        "id": "DlJy5bf57-ic"
      }
    },
    {
      "cell_type": "code",
      "source": [
        "def studentStats(filename):\n",
        "    '''\n",
        "    Write a function that reads the data from the file into a dictionary.\n",
        "    Then continue prompting the user for names of students.\n",
        "    For each student, it should print the average of that student’s grades.\n",
        "    Stop prompting when the user enters the name of a student not in the dictionary.\n",
        "    '''\n",
        "    # delete the word pass and code your way...\n",
        "    pass\n",
        "\n",
        "if __name__ == \"__main__\":\n",
        "    studentStats('students.txt')\n",
        "sname = input(\"Enter a student name or hit enter to quit: \")\n",
        "while sname in dict:\n",
        "  print(sname + \"'s average is \" + dict[sname])"
      ],
      "metadata": {
        "id": "d8l-LAQM8Ld1",
        "colab": {
          "base_uri": "https://localhost:8080/",
          "height": 216
        },
        "outputId": "57448b8d-a2be-4997-9186-fb74163db50c"
      },
      "execution_count": null,
      "outputs": [
        {
          "name": "stdout",
          "output_type": "stream",
          "text": [
            "Enter a student name or hit enter to quit: ab\n"
          ]
        },
        {
          "output_type": "error",
          "ename": "TypeError",
          "evalue": "argument of type 'type' is not iterable",
          "traceback": [
            "\u001b[0;31m---------------------------------------------------------------------------\u001b[0m",
            "\u001b[0;31mTypeError\u001b[0m                                 Traceback (most recent call last)",
            "\u001b[0;32m<ipython-input-1-5bb96e796a91>\u001b[0m in \u001b[0;36m<cell line: 14>\u001b[0;34m()\u001b[0m\n\u001b[1;32m     12\u001b[0m     \u001b[0mstudentStats\u001b[0m\u001b[0;34m(\u001b[0m\u001b[0;34m'students.txt'\u001b[0m\u001b[0;34m)\u001b[0m\u001b[0;34m\u001b[0m\u001b[0;34m\u001b[0m\u001b[0m\n\u001b[1;32m     13\u001b[0m \u001b[0msname\u001b[0m \u001b[0;34m=\u001b[0m \u001b[0minput\u001b[0m\u001b[0;34m(\u001b[0m\u001b[0;34m\"Enter a student name or hit enter to quit: \"\u001b[0m\u001b[0;34m)\u001b[0m\u001b[0;34m\u001b[0m\u001b[0;34m\u001b[0m\u001b[0m\n\u001b[0;32m---> 14\u001b[0;31m \u001b[0;32mwhile\u001b[0m \u001b[0msname\u001b[0m \u001b[0;32min\u001b[0m \u001b[0mdict\u001b[0m\u001b[0;34m:\u001b[0m\u001b[0;34m\u001b[0m\u001b[0;34m\u001b[0m\u001b[0m\n\u001b[0m\u001b[1;32m     15\u001b[0m   \u001b[0mprint\u001b[0m\u001b[0;34m(\u001b[0m\u001b[0msname\u001b[0m \u001b[0;34m+\u001b[0m \u001b[0;34m\"'s average is \"\u001b[0m \u001b[0;34m+\u001b[0m \u001b[0mdict\u001b[0m\u001b[0;34m[\u001b[0m\u001b[0msname\u001b[0m\u001b[0;34m]\u001b[0m\u001b[0;34m)\u001b[0m\u001b[0;34m\u001b[0m\u001b[0;34m\u001b[0m\u001b[0m\n",
            "\u001b[0;31mTypeError\u001b[0m: argument of type 'type' is not iterable"
          ]
        }
      ]
    },
    {
      "cell_type": "markdown",
      "source": [
        "[students.txt](https://drive.google.com/file/d/1AJywx6UFyNp8FDg5BnHdY5xZTFFwtLAq/view?usp=sharing)"
      ],
      "metadata": {
        "id": "zWiwotsm8ZGx"
      }
    }
  ]
}